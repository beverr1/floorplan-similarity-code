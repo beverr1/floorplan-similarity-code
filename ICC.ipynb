{
 "cells": [
  {
   "cell_type": "code",
   "execution_count": 4,
   "id": "6e737645-06e9-4712-b01c-b531ebdc62b6",
   "metadata": {},
   "outputs": [
    {
     "name": "stdout",
     "output_type": "stream",
     "text": [
      "🔹 ICC(3,1) for Desktop condition:\n",
      "\n",
      "   Type          Description       ICC          F  df1  df2          pval  \\\n",
      "2  ICC3  Single fixed raters  0.816573  23.258835   34  136  1.111216e-41   \n",
      "\n",
      "          CI95%  \n",
      "2  [0.72, 0.89]  \n",
      "\n",
      "🔹 ICC(3,1) for Oculus condition:\n",
      "\n",
      "   Type          Description       ICC          F  df1  df2          pval  \\\n",
      "2  ICC3  Single fixed raters  0.798226  20.780231   35  140  4.544693e-40   \n",
      "\n",
      "         CI95%  \n",
      "2  [0.7, 0.88]  \n"
     ]
    }
   ],
   "source": [
    "\n",
    "# Step 1: Import libraries\n",
    "import pandas as pd\n",
    "import pingouin as pg\n",
    "\n",
    "# Step 2: Load Excel file (adjust path if needed)\n",
    "file_path = r #paste path here \n",
    "df = pd.read_excel(file_path, sheet_name=\"Sheet1\")\n",
    "\n",
    "# Step 3: Convert wide to long format\n",
    "rater_blocks = ['A', 'B', 'C', 'D', 'E']\n",
    "score_data = []\n",
    "\n",
    "for i, rater in enumerate(rater_blocks):\n",
    "    col_offset = i * 4\n",
    "    desktop_scores = pd.to_numeric(df.iloc[1:, col_offset + 1], errors='coerce').reset_index(drop=True)\n",
    "    oculus_scores = pd.to_numeric(df.iloc[1:, col_offset + 3], errors='coerce').reset_index(drop=True)\n",
    "    sketch_ids = df.iloc[1:, col_offset].reset_index(drop=True)\n",
    "\n",
    "    for condition, scores in zip([\"Desktop\", \"Oculus\"], [desktop_scores, oculus_scores]):\n",
    "        temp_df = pd.DataFrame({\n",
    "            'sketch_id': sketch_ids,\n",
    "            'rater': rater,\n",
    "            'condition': condition,\n",
    "            'rating': scores\n",
    "        })\n",
    "        score_data.append(temp_df)\n",
    "\n",
    "# Combine and clean\n",
    "long_df = pd.concat(score_data, ignore_index=True)\n",
    "long_df.dropna(subset=['rating'], inplace=True)\n",
    "\n",
    "# Step 4: Compute ICC(3,1) for each condition\n",
    "icc_results = {}\n",
    "\n",
    "for condition in ['Desktop', 'Oculus']:\n",
    "    df_condition = long_df[long_df['condition'] == condition]\n",
    "\n",
    "    icc = pg.intraclass_corr(\n",
    "        data=df_condition,\n",
    "        targets='sketch_id',\n",
    "        raters='rater',\n",
    "        ratings='rating'\n",
    "    )\n",
    "\n",
    "    icc3 = icc[icc['Type'] == 'ICC3']\n",
    "    icc_results[condition] = icc3\n",
    "\n",
    "# Step 5: Display results\n",
    "print(\"🔹 ICC(3,1) for Desktop condition:\\n\")\n",
    "print(icc_results['Desktop'])\n",
    "print(\"\\n🔹 ICC(3,1) for Oculus condition:\\n\")\n",
    "print(icc_results['Oculus'])\n"
   ]
  },
  {
   "cell_type": "code",
   "execution_count": null,
   "id": "d46aa56b-7fd8-4dfd-9750-e3fefcc9a4b2",
   "metadata": {},
   "outputs": [],
   "source": []
  }
 ],
 "metadata": {
  "kernelspec": {
   "display_name": "Python 3 (ipykernel)",
   "language": "python",
   "name": "python3"
  },
  "language_info": {
   "codemirror_mode": {
    "name": "ipython",
    "version": 3
   },
   "file_extension": ".py",
   "mimetype": "text/x-python",
   "name": "python",
   "nbconvert_exporter": "python",
   "pygments_lexer": "ipython3",
   "version": "3.13.5"
  }
 },
 "nbformat": 4,
 "nbformat_minor": 5
}
